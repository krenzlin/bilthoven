{
 "metadata": {
  "name": "Untitled0"
 },
 "nbformat": 3,
 "nbformat_minor": 0,
 "worksheets": [
  {
   "cells": [
    {
     "cell_type": "markdown",
     "metadata": {},
     "source": [
      "try to emulate the mirror concept of gendy"
     ]
    },
    {
     "cell_type": "code",
     "collapsed": false,
     "input": [
      "import numpy as np"
     ],
     "language": "python",
     "metadata": {},
     "outputs": [],
     "prompt_number": 1
    },
    {
     "cell_type": "code",
     "collapsed": false,
     "input": [
      "def zick_zack_walk(N):\n",
      "    walk = []\n",
      "    add = True\n",
      "    for i in xrange(N):\n",
      "        step = np.random.randn()\n",
      "        if len(walk) == 0:\n",
      "            walk.append(step)\n",
      "        else:\n",
      "            if add:\n",
      "                walk.append(walk[-1] + step)\n",
      "            else: \n",
      "                walk.append(walk[-1] - step)\n",
      "            \n",
      "            if walk[-1] >= 1:\n",
      "                add = False\n",
      "            elif walk[-1] <= -1:\n",
      "                add = True\n",
      "    return walk"
     ],
     "language": "python",
     "metadata": {},
     "outputs": [],
     "prompt_number": 8
    },
    {
     "cell_type": "code",
     "collapsed": false,
     "input": [
      "plot(cumsum(zick_zack_walk(100)))"
     ],
     "language": "python",
     "metadata": {},
     "outputs": [
      {
       "output_type": "pyout",
       "prompt_number": 12,
       "text": [
        "[<matplotlib.lines.Line2D at 0x3047710>]"
       ]
      },
      {
       "output_type": "display_data",
       "png": "[encoded data removed]"
      }
     ],
     "prompt_number": 12
    },
    {
     "cell_type": "code",
     "collapsed": false,
     "input": [],
     "language": "python",
     "metadata": {},
     "outputs": []
    }
   ],
   "metadata": {}
  }
 ]
}